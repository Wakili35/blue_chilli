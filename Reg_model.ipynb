{
  "nbformat": 4,
  "nbformat_minor": 0,
  "metadata": {
    "colab": {
      "name": "Reg_model.ipynb",
      "provenance": [],
      "collapsed_sections": [],
      "authorship_tag": "ABX9TyPHmAO1syglGZDLd1d7g6iA",
      "include_colab_link": true
    },
    "kernelspec": {
      "name": "python3",
      "display_name": "Python 3"
    },
    "language_info": {
      "name": "python"
    }
  },
  "cells": [
    {
      "cell_type": "markdown",
      "metadata": {
        "id": "view-in-github",
        "colab_type": "text"
      },
      "source": [
        "<a href=\"https://colab.research.google.com/github/Wakili35/blue_chilli/blob/main/Reg_model.ipynb\" target=\"_parent\"><img src=\"https://colab.research.google.com/assets/colab-badge.svg\" alt=\"Open In Colab\"/></a>"
      ]
    },
    {
      "cell_type": "code",
      "metadata": {
        "id": "r9Tc6gLn70o9"
      },
      "source": [
        "import pandas as pd\n",
        "import numpy as np\n",
        "import matplotlib.pyplot as plt"
      ],
      "execution_count": 1,
      "outputs": []
    },
    {
      "cell_type": "code",
      "metadata": {
        "id": "VDLtWNkP-gcO"
      },
      "source": [
        "# loading in the dataset\n",
        "\n",
        "energy_df = pd.read_csv(\"energydata_complete.csv\")"
      ],
      "execution_count": 2,
      "outputs": []
    },
    {
      "cell_type": "code",
      "metadata": {
        "id": "1gL36wOY-iPA"
      },
      "source": [
        "# selecting the two columns for performing a linear regresion\n",
        "\n",
        "new_energy = energy_df[['T2', 'T6']]"
      ],
      "execution_count": null,
      "outputs": []
    },
    {
      "cell_type": "code",
      "metadata": {
        "id": "Y4B0HGtE-ijA"
      },
      "source": [
        "new_energy.info()"
      ],
      "execution_count": null,
      "outputs": []
    },
    {
      "cell_type": "code",
      "metadata": {
        "id": "AYPb98v2FNqg"
      },
      "source": [
        "# normalizing the data\n",
        "\n",
        "from sklearn.preprocessing import MinMaxScaler\n",
        "scaler = MinMaxScaler()"
      ],
      "execution_count": 24,
      "outputs": []
    },
    {
      "cell_type": "code",
      "metadata": {
        "id": "xFp6bY3tFQPr"
      },
      "source": [
        "# transforming the data columns based on the normalization\n",
        "\n",
        "final_data = pd.DataFrame(scaler.fit_transform(new_energy), columns=new_energy.columns)"
      ],
      "execution_count": 25,
      "outputs": []
    },
    {
      "cell_type": "code",
      "metadata": {
        "id": "I2a6XwExFQba"
      },
      "source": [
        "# assigning the variables to X and Y\n",
        "\n",
        "X = np.array(final_data['T2']).reshape(-1,1)\n",
        "y = final_data['T6']"
      ],
      "execution_count": 30,
      "outputs": []
    },
    {
      "cell_type": "code",
      "metadata": {
        "id": "OUOu3PCw_QXf"
      },
      "source": [
        "# splitting the data into train and test sets\n",
        "\n",
        "from sklearn.model_selection import train_test_split\n",
        "\n",
        "X_train, X_test, y_train, y_test =  train_test_split(X, y, test_size = 0.3, random_state= 42)"
      ],
      "execution_count": 31,
      "outputs": []
    },
    {
      "cell_type": "code",
      "metadata": {
        "id": "Ldz5JGZs_iM1"
      },
      "source": [
        "# importing libraries for the regression\n",
        "\n",
        "from sklearn.linear_model import LinearRegression\n",
        "reg = LinearRegression()"
      ],
      "execution_count": 32,
      "outputs": []
    },
    {
      "cell_type": "code",
      "metadata": {
        "id": "apqrxfaVAQ00"
      },
      "source": [
        "# fitting a regression model to the data\n",
        "\n",
        "model = reg.fit(X_train, y_train)\n"
      ],
      "execution_count": 33,
      "outputs": []
    },
    {
      "cell_type": "code",
      "metadata": {
        "id": "GUd5zH3jGpHD"
      },
      "source": [
        "# testing the model with the rest of the data\n",
        "\n",
        "y_pred = reg.predict(X_test)"
      ],
      "execution_count": 34,
      "outputs": []
    },
    {
      "cell_type": "code",
      "metadata": {
        "id": "wNvPDqAkHfya"
      },
      "source": [
        "# r2 score for the model\n",
        "\n",
        "score = r2_score(y_test,y_pred)"
      ],
      "execution_count": 39,
      "outputs": []
    },
    {
      "cell_type": "code",
      "metadata": {
        "colab": {
          "base_uri": "https://localhost:8080/"
        },
        "id": "Loa7ajs-Hh4G",
        "outputId": "2a5017ce-4b18-42f0-88f4-8c1aa3bc3f69"
      },
      "source": [
        "round(score, 2)"
      ],
      "execution_count": 40,
      "outputs": [
        {
          "output_type": "execute_result",
          "data": {
            "text/plain": [
              "0.64"
            ]
          },
          "metadata": {},
          "execution_count": 40
        }
      ]
    },
    {
      "cell_type": "code",
      "metadata": {
        "id": "2x5KQbEtGpWP"
      },
      "source": [
        "# Mean absolute error for the model \n",
        "\n",
        "MAE = mean_absolute_error(y_test, y_pred)"
      ],
      "execution_count": 35,
      "outputs": []
    },
    {
      "cell_type": "code",
      "metadata": {
        "colab": {
          "base_uri": "https://localhost:8080/"
        },
        "id": "4Um7YvKAAQ7G",
        "outputId": "b3f143f0-3a80-477c-b950-734a2fdbc85b"
      },
      "source": [
        "round(MAE, 2)"
      ],
      "execution_count": 36,
      "outputs": [
        {
          "output_type": "execute_result",
          "data": {
            "text/plain": [
              "0.08"
            ]
          },
          "metadata": {},
          "execution_count": 36
        }
      ]
    },
    {
      "cell_type": "code",
      "metadata": {
        "id": "Lv55FPptARNe"
      },
      "source": [
        "# importing more libraries\n",
        "\n",
        "from sklearn.metrics import r2_score\n",
        "from sklearn.metrics import mean_squared_error\n",
        "from sklearn.metrics import mean_absolute_error"
      ],
      "execution_count": 21,
      "outputs": []
    },
    {
      "cell_type": "code",
      "metadata": {
        "colab": {
          "base_uri": "https://localhost:8080/"
        },
        "id": "LPVNVXRHEH0_",
        "outputId": "9f8724fa-e128-4691-dbb4-c022506601a1"
      },
      "source": [
        "round(np.sum(np.square(y_test - y_pred)), 2)"
      ],
      "execution_count": 38,
      "outputs": [
        {
          "output_type": "execute_result",
          "data": {
            "text/plain": [
              "66.12"
            ]
          },
          "metadata": {},
          "execution_count": 38
        }
      ]
    },
    {
      "cell_type": "code",
      "metadata": {
        "id": "eCf7leQtEH6-"
      },
      "source": [
        "RMSE = np.sqrt(mean_squared_error(y_test, y_pred))"
      ],
      "execution_count": 41,
      "outputs": []
    },
    {
      "cell_type": "code",
      "metadata": {
        "colab": {
          "base_uri": "https://localhost:8080/"
        },
        "id": "Kmgxoya5H6Pm",
        "outputId": "621fdf96-0f1f-42b9-b8c1-c44f96390e0a"
      },
      "source": [
        "round(RMSE, 3)"
      ],
      "execution_count": 42,
      "outputs": [
        {
          "output_type": "execute_result",
          "data": {
            "text/plain": [
              "0.106"
            ]
          },
          "metadata": {},
          "execution_count": 42
        }
      ]
    },
    {
      "cell_type": "code",
      "metadata": {
        "id": "t3xoMfA8I7DC"
      },
      "source": [
        " from sklearn.linear_model import Ridge\n",
        "\n",
        " ridge_reg = Ridge(alpha=0.4)\n",
        " ridge_model = ridge_reg.fit(X_train, y_train)"
      ],
      "execution_count": 45,
      "outputs": []
    },
    {
      "cell_type": "code",
      "metadata": {
        "id": "gjufxMzRJMjf"
      },
      "source": [
        "RMSE = np.sqrt(mean_squared_error(y_test, y_pred))"
      ],
      "execution_count": 46,
      "outputs": []
    },
    {
      "cell_type": "code",
      "metadata": {
        "colab": {
          "base_uri": "https://localhost:8080/"
        },
        "id": "xzHlGzo3JTR0",
        "outputId": "b06b790a-d117-4750-d86b-a7db61726b2f"
      },
      "source": [
        "round(RMSE, 3)"
      ],
      "execution_count": 47,
      "outputs": [
        {
          "output_type": "execute_result",
          "data": {
            "text/plain": [
              "0.106"
            ]
          },
          "metadata": {},
          "execution_count": 47
        }
      ]
    },
    {
      "cell_type": "code",
      "metadata": {
        "id": "KhLp9k1pJmdm"
      },
      "source": [
        " from sklearn.linear_model import Lasso\n",
        "\n",
        " lasso_reg = Lasso(alpha=0.001)\n",
        " lass_model = lasso_reg.fit(X_train, y_train)"
      ],
      "execution_count": 49,
      "outputs": []
    },
    {
      "cell_type": "code",
      "metadata": {
        "colab": {
          "base_uri": "https://localhost:8080/"
        },
        "id": "CHn23ZBXMVFb",
        "outputId": "37f750e5-084d-4a7d-b9cd-c51afec9d1c3"
      },
      "source": [
        "np.sqrt(mean_squared_error(y_test, y_pred))"
      ],
      "execution_count": 54,
      "outputs": [
        {
          "output_type": "execute_result",
          "data": {
            "text/plain": [
              "0.10567064851347532"
            ]
          },
          "metadata": {},
          "execution_count": 54
        }
      ]
    },
    {
      "cell_type": "code",
      "metadata": {
        "id": "fTL84t8XJ8Es"
      },
      "source": [
        " def get_weights_df(model, feat, col_name):\n",
        "   #this function returns the weight of every feature\n",
        "   weights = pd.Series(model.coef_, feat.columns).sort_values()\n",
        "   weights_df = pd.DataFrame(weights).reset_index()\n",
        "   weights_df.columns = ['Features', col_name]\n",
        "   weights_df[col_name].round(3)\n",
        "   return weights_df"
      ],
      "execution_count": 50,
      "outputs": []
    },
    {
      "cell_type": "code",
      "metadata": {
        "id": "kh2ThmnzJ8NA"
      },
      "source": [
        "# linear_model_weights = get_weights_df(model, X_train, 'Linear_Model_Weight')\n",
        "ridge_weights_df = get_weights_df(ridge_reg, X_train, 'Ridge_Weight')\n",
        "lasso_weights_df = get_weights_df(lasso_reg, X_train, 'Lasso_weight')"
      ],
      "execution_count": null,
      "outputs": []
    }
  ]
}